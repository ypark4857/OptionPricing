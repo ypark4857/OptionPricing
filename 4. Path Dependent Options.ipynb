{
 "cells": [
  {
   "cell_type": "code",
   "execution_count": 1,
   "id": "999ff4ba",
   "metadata": {},
   "outputs": [],
   "source": [
    "import numpy as np\n",
    "\n",
    "import matplotlib.pyplot as plt\n",
    "import seaborn as sns\n",
    "\n",
    "rng = np.random.default_rng(12345)"
   ]
  },
  {
   "cell_type": "code",
   "execution_count": 2,
   "id": "d8f12dda",
   "metadata": {},
   "outputs": [],
   "source": [
    "def GBM(S0, T, mu, sigma, Npaths):\n",
    "\n",
    "    # The number of trading days based on 252 trading days per year\n",
    "    Nsteps = int(252 * T) \n",
    "    \n",
    "    t, dt = np.linspace(0, T, Nsteps+1, retstep=True)\n",
    "    S = np.zeros((Nsteps+1, Npaths))\n",
    "    S[0, :] = S0\n",
    "    \n",
    "    for n in range(Nsteps):\n",
    "        dW = np.sqrt(dt) * rng.normal(0, 1, Npaths)\n",
    "        S[n+1, :] = S[n, :] * (1 + mu * dt + sigma * dW[:])\n",
    "        \n",
    "    return t, S"
   ]
  },
  {
   "cell_type": "markdown",
   "id": "2fa6462a",
   "metadata": {},
   "source": [
    "### Asian Option\n",
    "\n",
    "Asian options are a category of financial derivatives whose payoff is contingent on the average market price of the underlying asset over a specific timeframe.\n",
    "\n",
    "- Asian Call Option: $(\\bar{S} - K)^+$, where $K$ stands for the strike price.\n",
    "- Asian Put option: $(K - \\bar{S})^+$.\n",
    "\n",
    "Average Price Calculation:\n",
    "The average price $\\bar{S}$ of the underlying asset is calculated by using the formula:\n",
    "$$ \\bar{S} = \\frac{1}{n} \\sum_{i=1} ^n S(t_i)$$\n",
    "where $S(t_i)$ represents the price of the underlying asset at specific monitoring dates $t_1, t_2, \\dots, t_n$, and $n$ is the total number of these dates."
   ]
  },
  {
   "cell_type": "code",
   "execution_count": 3,
   "id": "708e7edd",
   "metadata": {},
   "outputs": [],
   "source": [
    "def AsianOption(S0, K, T, r, sigma, Npaths, option_type='call'):\n",
    "    \n",
    "    if option_type not in ['call', 'put']:\n",
    "        raise ValueError(\"Error: Invalid option type. Please choose 'call' or 'put'.\")\n",
    "    \n",
    "    t, S = GBM(S0=S0, T=T, mu=r, sigma=sigma, Npaths=Npaths)\n",
    "    \n",
    "    # Calculate payoff based on option type\n",
    "    if option_type == 'call':\n",
    "        fST = np.exp(-r * T) * np.maximum(np.mean(S, axis=0) - K, 0)\n",
    "    elif option_type == 'put':\n",
    "        fST = np.exp(-r * T) * np.maximum(K - np.mean(S, axis=0), 0)\n",
    "        \n",
    "    price = np.mean(fST)\n",
    "    var = np.var(fST)\n",
    "    \n",
    "    return price, var"
   ]
  },
  {
   "cell_type": "code",
   "execution_count": 4,
   "id": "67cc645f",
   "metadata": {},
   "outputs": [
    {
     "name": "stdout",
     "output_type": "stream",
     "text": [
      "The Asian option Price:  12.1994 +/- 0.038\n"
     ]
    }
   ],
   "source": [
    "# parameters\n",
    "S0 = 110\n",
    "K = 100\n",
    "T = 1\n",
    "r = 0.05\n",
    "sigma = 0.01\n",
    "Npaths = 10**3\n",
    "\n",
    "AsianPrice, AsianVar = AsianOption(S0, K, T, r, sigma, Npaths)\n",
    "AsianSEM = np.sqrt(AsianVar / Npaths)\n",
    "\n",
    "# Display the results\n",
    "print(\"The Asian option Price: \", round(AsianPrice, 4), \"+/-\", format(1.96*AsianSEM, '.2g'))"
   ]
  },
  {
   "cell_type": "markdown",
   "id": "9f6a78f8",
   "metadata": {},
   "source": [
    "### Geometric Average Option\n",
    "\n",
    "Replacing the arithmetic average $\\bar{S}$ in Asian option with\n",
    "$$ (\\prod_{i=1} ^n S(t_i))^{\\frac{1}{n}}$$\n",
    "produces an option on the geometric average of the underlying asset price. Such options are seldom if ever found in practice, but they are useful as test cases for computiational procedures and as a basis for approximating ordinary Asian options.\n",
    "\n",
    "To avoid overflow, I am going to use another formula to use logarithm:\n",
    "$$ (\\prod_{i=1} ^n S(t_i))^{\\frac{1}{n}} = \\exp(\\frac{1}{n} \\sum_{i=1} ^n \\log(S(t_i)))$$"
   ]
  },
  {
   "cell_type": "code",
   "execution_count": 5,
   "id": "473f8d22",
   "metadata": {},
   "outputs": [],
   "source": [
    "def GeoAvgOption(S0, K, T, r, sigma, Npaths, option_type='call'):\n",
    "    \n",
    "    if option_type not in ['call', 'put']:\n",
    "        raise ValueError(\"Error: Invalid option type. Please choose 'call' or 'put'.\")\n",
    "    \n",
    "    t, S = GBM(S0=S0, T=T, mu=r, sigma=sigma, Npaths=Npaths)\n",
    "    \n",
    "    # Calculate payoff based on option type\n",
    "    if option_type == 'call':\n",
    "        fST = np.exp(-r * T) * np.maximum(np.exp(np.log(S).mean(axis=0)) - K, 0)\n",
    "    elif option_type == 'put':\n",
    "        fST = np.exp(-r * T) * np.maximum(K - np.exp(np.log(S).mean(axis=0)), 0)\n",
    "        \n",
    "    price = np.mean(fST)\n",
    "    var = np.var(fST)\n",
    "    \n",
    "    return price, var"
   ]
  },
  {
   "cell_type": "code",
   "execution_count": 6,
   "id": "7c54c31d",
   "metadata": {},
   "outputs": [
    {
     "name": "stdout",
     "output_type": "stream",
     "text": [
      "The Geometric Average option Price:  12.1811 +/- 0.039\n"
     ]
    }
   ],
   "source": [
    "# parameters\n",
    "S0 = 110\n",
    "K = 100\n",
    "T = 1\n",
    "r = 0.05\n",
    "sigma = 0.01\n",
    "Npaths = 10**3\n",
    "\n",
    "GeoAvgPrice, GeoAvgVar = GeoAvgOption(S0, K, T, r, sigma, Npaths)\n",
    "GeoAvgSEM = np.sqrt(GeoAvgVar / Npaths)\n",
    "\n",
    "# Display the results\n",
    "print(\"The Geometric Average option Price: \", round(GeoAvgPrice, 4), \"+/-\", format(1.96*GeoAvgSEM, '.2g'))"
   ]
  },
  {
   "cell_type": "markdown",
   "id": "1cfa176f",
   "metadata": {},
   "source": [
    "### Barrier Option\n",
    "\n",
    "Barrier options are exotic options with payoffs that depend on the underlying asset's price reaching a specified barrier level during the option's lifespan.\n",
    "\n",
    "1. Down-and-Out: This option becomes invalid (knocked out) if the asset's price drops below the barrier level ($S_b$) at any point.\n",
    "$$\n",
    "\\begin{cases}\n",
    "\\max(S_T-K, 0), & {\\rm if} \\min_{t_i} S_{t_i} > S_b \\\\\n",
    "0, & {\\rm otherwise}\n",
    "\\end{cases}\n",
    "$$\n",
    "\n",
    "\n",
    "2. Down-and-In: Contrary to the down-and-out, a down-and-in option becomes active (gets \"knocked in\") only if the asset's price drops below the barrier level at least once during the option's lifetime.\n",
    "$$\n",
    "\\begin{cases}\n",
    "\\max(S_T-K, 0), & {\\rm if} \\min_{t_i} S_{t_i} \\leq S_b \\\\\n",
    "0, & {\\rm otherwise}\n",
    "\\end{cases}\n",
    "$$\n",
    "\n",
    "\n",
    "3. Up-and-Out: This option becomes invalid (knocked out) if the asset's price rises above the barrier level ($S_b$) at any point.\n",
    "$$\n",
    "\\begin{cases}\n",
    "\\max(S_T-K, 0), & {\\rm if} \\max_{t_i} S_{t_i} < S_b \\\\\n",
    "0, & {\\rm otherwise}\n",
    "\\end{cases}\n",
    "$$\n",
    "\n",
    "\n",
    "4. Up-and-In: Contrary to the Up-and-Out, this option becomes active (knocked in) only if the asset's price rises above the barrier level at least once during the option's lifetime.\n",
    "$$\n",
    "\\begin{cases}\n",
    "\\max(S_T-K, 0), & {\\rm if} \\max_{t_i} S_{t_i} \\geq S_b \\\\\n",
    "0, & {\\rm otherwise}\n",
    "\\end{cases}\n",
    "$$"
   ]
  },
  {
   "cell_type": "code",
   "execution_count": 7,
   "id": "52a5bb91",
   "metadata": {},
   "outputs": [],
   "source": [
    "def BarrierOption(S0, Sb, K, T, r, sigma, Npaths, option_type='call', barrier_direction='up', activation_type='out'):\n",
    "    \n",
    "    # Validate option_type, barrier_direction and activation_type\n",
    "    if option_type not in ['call', 'put']:\n",
    "        raise ValueError(\"Invalid option type. Please choose 'call' or 'put'.\")\n",
    "    if barrier_direction not in ['up', 'down']:\n",
    "        raise ValueError(\"Invalid barrier direction. Please choose 'up' or 'down'.\")\n",
    "    if activation_type not in ['in', 'out']:\n",
    "        raise ValueError(\"Invalid activation type. Please choose 'in' or 'out'.\")\n",
    "\n",
    "    t, S = GBM(S0=S0, T=T, mu=r, sigma=sigma, Npaths=Npaths)\n",
    "    \n",
    "    # Initialise indicator based on barrier_direction and activation_type\n",
    "\n",
    "    if barrier_direction == 'up':\n",
    "        maxS = np.amax(S, axis=0)\n",
    "        if activation_type == 'out':\n",
    "            indicator = np.heaviside(Sb - maxS, 0.5)\n",
    "        elif activation_type == 'in':\n",
    "            indicator = np.heaviside(maxS - Sb, 0.5)\n",
    "            \n",
    "    elif barrier_direction == 'down':\n",
    "        minS = np.amin(S, axis=0)\n",
    "        if activation_type == 'out':\n",
    "            indicator = np.heaviside(minS - Sb, 0.5)\n",
    "        elif activation_type == 'in':\n",
    "            indicator = np.heaviside(Sb - minS, 0.5)\n",
    "\n",
    "    # Calculate payoff based on option type\n",
    "    if option_type == 'call':\n",
    "        payoff = np.maximum(S[-1, :] - K, 0)\n",
    "    elif option_type == 'put':\n",
    "        payoff = np.maximum(K - S[-1, :], 0)\n",
    "        \n",
    "    fST = np.exp(-r * T) * payoff * indicator\n",
    "    \n",
    "    price = np.mean(fST)\n",
    "    var = np.var(fST)\n",
    "    \n",
    "    return price, var\n"
   ]
  },
  {
   "cell_type": "code",
   "execution_count": 8,
   "id": "973f152f",
   "metadata": {},
   "outputs": [
    {
     "name": "stdout",
     "output_type": "stream",
     "text": [
      "The Barrier(Down-and-out) option Price:  14.9347 +/- 0.07\n"
     ]
    }
   ],
   "source": [
    "# parameters\n",
    "S0 = 110\n",
    "K = 100\n",
    "T = 1\n",
    "r = 0.05\n",
    "sigma = 0.01\n",
    "Npaths = 10**3\n",
    "\n",
    "#Barrier\n",
    "Sb = 80\n",
    "\n",
    "#Down-and-out\n",
    "Price_dn_out, Var_dn_out = BarrierOption(S0, Sb, K, T, r, sigma, Npaths, 'call', 'down', 'out')\n",
    "SEM_dn_out = np.sqrt(Var_dn_out / Npaths)\n",
    "\n",
    "# Display the results\n",
    "print(\"The Barrier(Down-and-out) option Price: \", round(Price_dn_out, 4), \"+/-\", format(1.96*SEM_dn_out, '.2g'))"
   ]
  },
  {
   "cell_type": "markdown",
   "id": "29a29042",
   "metadata": {},
   "source": [
    "### LookBack Option\n",
    "\n",
    "Like Barrier Options, lookback options depends on external values of the underlying asset price. Lookback calls expiring at $T = t_n$ have payoffs\n",
    "$$ (S(T) - \\min_{i=1, \\dots, n} S(t_i) ) $$"
   ]
  },
  {
   "cell_type": "code",
   "execution_count": 9,
   "id": "112553aa",
   "metadata": {},
   "outputs": [],
   "source": [
    "def LookbackOption(S0, K, T, r, sigma, Npaths, option_type='call'):\n",
    "    # Validate option_type, barrier_direction and activation_type\n",
    "    if option_type not in ['call', 'put']:\n",
    "        raise ValueError(\"Invalid option type. Please choose 'call' or 'put'.\")\n",
    "\n",
    "    t, S = GBM(S0=S0, T=T, mu=r, sigma=sigma, Npaths=Npaths)\n",
    "    \n",
    "    if option_type == 'call':\n",
    "        minS = np.amin(S, axis=0)\n",
    "        fST = np.exp(-r * T) * np.maximum(S[-1, :] - minS, 0)\n",
    "    elif option_type == 'put':\n",
    "        maxS = np.amax(S, axis=0) \n",
    "        fST = np.exp(-r * T) * np.maximum(maxS - S[-1, :] , 0)\n",
    "    \n",
    "    price = np.mean(fST)\n",
    "    var = np.var(fST)\n",
    "    \n",
    "    return price, var"
   ]
  },
  {
   "cell_type": "code",
   "execution_count": 10,
   "id": "76419623",
   "metadata": {},
   "outputs": [
    {
     "name": "stdout",
     "output_type": "stream",
     "text": [
      "The Lookback option Price:  5.4222 +/- 0.065\n"
     ]
    }
   ],
   "source": [
    "# parameters\n",
    "S0 = 110\n",
    "K = 100\n",
    "T = 1\n",
    "r = 0.05\n",
    "sigma = 0.01\n",
    "Npaths = 10**3\n",
    "\n",
    "lbPrice, lbVar = LookbackOption(S0, K, T, r, sigma, Npaths)\n",
    "lbSEM = np.sqrt(lbVar / Npaths)\n",
    "\n",
    "# Display the results\n",
    "print(\"The Lookback option Price: \", round(lbPrice, 4), \"+/-\", format(1.96*lbSEM, '.2g'))"
   ]
  }
 ],
 "metadata": {
  "kernelspec": {
   "display_name": "Python 3 (ipykernel)",
   "language": "python",
   "name": "python3"
  },
  "language_info": {
   "codemirror_mode": {
    "name": "ipython",
    "version": 3
   },
   "file_extension": ".py",
   "mimetype": "text/x-python",
   "name": "python",
   "nbconvert_exporter": "python",
   "pygments_lexer": "ipython3",
   "version": "3.9.12"
  }
 },
 "nbformat": 4,
 "nbformat_minor": 5
}
