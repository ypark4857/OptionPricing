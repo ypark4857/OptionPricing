{
 "cells": [
  {
   "cell_type": "markdown",
   "id": "6f54909a",
   "metadata": {},
   "source": [
    "# Monte Carlo Simulation of European Option Pricing\n",
    "\n",
    "This notebook provides functions for pricing European options and calculating their associated deltas throgh Monte Carlo simulations.\n",
    "\n",
    "The functions available are:\n",
    "- MC_euro_call(S, K, T, r, sigma, N): Estimates the price of a European call option.\n",
    "- MC_euro_put(S, K, T, r, sigma, N): Estimates the price of a European put option.\n",
    "- MC_euro_call_delta(S, K, T, r, sigma, N): Calculates the delta of a European call option\n",
    "- MC_euro_put_delta(S, K, T, r, sigma, N): Calculates the delta of a European put option\n",
    "\n",
    "The input parameters for these functions include:\n",
    "- S: Spot price, \n",
    "- K: Strike price, \n",
    "- T: Time to expiry, \n",
    "- r: Risk-free interest rate, \n",
    "- sigma: volatility, \n",
    "- N: Number of Monte Carlo samples. \n",
    "\n",
    "The output comprises estimated prices or deltas along with their corresponding variances."
   ]
  },
  {
   "cell_type": "markdown",
   "id": "3cb04e78",
   "metadata": {},
   "source": [
    "## 1. Libraries and Functions"
   ]
  },
  {
   "cell_type": "code",
   "execution_count": 1,
   "id": "614c27a5",
   "metadata": {},
   "outputs": [],
   "source": [
    "import numpy as np\n",
    "\n",
    "# Visualisation\n",
    "import seaborn as sns\n",
    "import matplotlib.pyplot as plt\n",
    "import matplotlib.gridspec as gridspec\n",
    "%matplotlib inline\n",
    "\n",
    "# Scipy.stats\n",
    "from scipy.stats import norm\n",
    "\n",
    "# Random Generator\n",
    "rng = np.random.default_rng(123)"
   ]
  },
  {
   "cell_type": "markdown",
   "id": "054c857e",
   "metadata": {},
   "source": [
    "### 1.1 Functions for Monte Carlo"
   ]
  },
  {
   "cell_type": "code",
   "execution_count": 2,
   "id": "61662638",
   "metadata": {},
   "outputs": [],
   "source": [
    "def MC_call(S, K, T, r, sigma, N):\n",
    "    \n",
    "    # Initial Asset Pricie\n",
    "    S0 = S\n",
    "    \n",
    "    # X follows a standard normal distribution\n",
    "    X = rng.normal(0, 1, N)\n",
    "    \n",
    "    # The Distribution of asset prices at the Expiration of the Option\n",
    "    ST = S0 * np.exp((r-0.5*sigma**2)*T + sigma*np.sqrt(T)*X)\n",
    "    \n",
    "    # The Discounted payoff of European call option at expiration\n",
    "    fST = np.exp(-r*T) * np.maximum(ST-K, 0)\n",
    "    \n",
    "    # The option value by taking the expected discounted payoff\n",
    "    price = np.mean(fST)\n",
    "    variance = np.var(fST)\n",
    "    \n",
    "    return price, variance\n",
    "\n",
    "def MC_put(S, K, T, r, sigma, N):\n",
    "    \n",
    "    # Initial Asset Pricie\n",
    "    S0 = S\n",
    "\n",
    "    # X follows a standard normal distribution\n",
    "    X = rng.normal(0, 1, N)\n",
    "    \n",
    "    # The Distribution of asset prices at the Expiration of the Option\n",
    "    ST = S0 * np.exp((r-0.5*sigma**2)*T + sigma*np.sqrt(T)*X)\n",
    "    \n",
    "    # The Discounted payoff of European call option at expiration\n",
    "    fST = np.exp(-r*T) * np.maximum(K-ST, 0)\n",
    "\n",
    "    # The option value by taking the expected discounted payoff\n",
    "    price = np.mean(fST)\n",
    "    variance = np.var(fST)\n",
    "    \n",
    "    return price, variance\n",
    "\n",
    "def MC_call_delta(S, K, T, r, sigma, N):\n",
    "    \n",
    "    # Set numerical Parameter dS\n",
    "    dS = 0.5\n",
    "\n",
    "    # Compute N i.i.d random numbers X_i ~ N(0, 1)\n",
    "    X = rng.normal(0, 1, N)\n",
    "    \n",
    "    # Compute ST_up for each X_i starting from S0 + dS\n",
    "    S0 = S + dS\n",
    "    ST_up = S0 * np.exp((r-0.5*sigma**2)*T + sigma*np.sqrt(T)*X)\n",
    "    fST_up = np.exp(-r*T) * np.maximum(ST_up - K, 0)\n",
    "    \n",
    "    # Compute ST_dn for each X_i starting from S0 - dS\n",
    "    S0 = S - dS\n",
    "    ST_dn = S0 * np.exp((r-0.5*sigma**2)*T + sigma*np.sqrt(T)*X)\n",
    "    fST_dn = np.exp(-r*T) * np.maximum(ST_dn - K, 0)\n",
    "    \n",
    "    # Compute dfST_dS_i\n",
    "    dfST_dS = (fST_up - fST_dn) / (2*dS)\n",
    "    \n",
    "    # Compute the Mean and Variance\n",
    "    delta = np.mean(dfST_dS)\n",
    "    variance = np.var(dfST_dS)\n",
    "    \n",
    "    return delta, variance\n",
    "\n",
    "def MC_put_delta(S, K, T, r, sigma, N):\n",
    "    \n",
    "    # Set numerical Parameter dS\n",
    "    dS = 0.5\n",
    "\n",
    "    # Compute N i.i.d random numbers X_i ~ N(0, 1)\n",
    "    X = rng.normal(0, 1, N)\n",
    "    \n",
    "    # Compute ST_up for each X_i starting from S0 + dS\n",
    "    S0 = S + dS\n",
    "    ST_up = S0 * np.exp((r-0.5*sigma**2)*T + sigma*np.sqrt(T)*X)\n",
    "    fST_up = np.exp(-r*T) * np.maximum(K-ST_up, 0)\n",
    "    \n",
    "    # Compute ST_dn for each X_i starting from S0 - dS\n",
    "    S0 = S - dS\n",
    "    ST_dn = S0 * np.exp((r-0.5*sigma**2)*T + sigma*np.sqrt(T)*X)\n",
    "    fST_dn = np.exp(-r*T) * np.maximum(K-ST_dn, 0)\n",
    "    \n",
    "    # Compute dfST_dS_i\n",
    "    dfST_dS = (fST_up - fST_dn) / (2*dS)\n",
    "    \n",
    "    # Compute the Mean and Variance\n",
    "    delta = np.mean(dfST_dS)\n",
    "    variance = np.var(dfST_dS)\n",
    "    \n",
    "    return delta, variance"
   ]
  },
  {
   "cell_type": "markdown",
   "id": "1f029d90",
   "metadata": {},
   "source": [
    "### 1.2 Functions for Black Scholes"
   ]
  },
  {
   "cell_type": "code",
   "execution_count": 3,
   "id": "9f0c1b25",
   "metadata": {},
   "outputs": [],
   "source": [
    "def BS_call(S, K, T, r, sigma):\n",
    "    d1 = (np.log(S/K) + (r + sigma**2 /2) * T) / (sigma*np.sqrt(T))\n",
    "    d2 = d1 - sigma * np.sqrt(T)\n",
    "    return S * norm.cdf(d1) - K * np.exp(-r*T) * norm.cdf(d2)\n",
    "\n",
    "def BS_put(S, K, T, r, sigma):\n",
    "    d1 = (np.log(S/K) + (r + sigma**2 /2) * T) / (sigma*np.sqrt(T))\n",
    "    d2 = d1 - sigma * np.sqrt(T)\n",
    "    return -S * norm.cdf(-d1) + K * np.exp(-r*T) * norm.cdf(-d2)\n",
    "\n",
    "def BS_price(S, K, T, r, sigma):\n",
    "    d1 = (np.log(S/K) + (r + sigma**2 /2) * T) / (sigma*np.sqrt(T))\n",
    "    d2 = d1 - sigma * np.sqrt(T)\n",
    "    BS_call = S * norm.cdf(d1) - K * np.exp(-r*T) * norm.cdf(d2)\n",
    "    BS_put = BS_call - S + K * np.exp(-r*T)\n",
    "    return BS_call, BS_put"
   ]
  },
  {
   "cell_type": "markdown",
   "id": "b72626e6",
   "metadata": {},
   "source": [
    "---\n",
    "## 2. Analysis of European Options\n",
    "\n",
    "For the purpose of testing, I've chosen specific parameter values to analyse European options. The parameters selected for this analysis are as follows:\n",
    "- $S = 140$\n",
    "- $K = 110$\n",
    "- $T = 1$\n",
    "- $r = 0.05$\n",
    "- $\\sigma = 0.3$\n",
    "- $N = 10,000$"
   ]
  },
  {
   "cell_type": "code",
   "execution_count": 4,
   "id": "38ab1584",
   "metadata": {},
   "outputs": [],
   "source": [
    "# Parameters\n",
    "S = 140\n",
    "K = 110\n",
    "T = 1\n",
    "r = 0.05\n",
    "sigma = 0.3\n",
    "N = 10**4"
   ]
  },
  {
   "cell_type": "markdown",
   "id": "5c3e4154",
   "metadata": {},
   "source": [
    "### 2.1 European Option Pricing with Black-Scholes Model\n",
    "\n",
    "Firstly, we will calculate the prices of call and put options using the Black-Scholes model. These values will serve as benchmarks for the estimates obtained through Monte Carlo simulations in this analysis."
   ]
  },
  {
   "cell_type": "code",
   "execution_count": 5,
   "id": "7cfc24c9",
   "metadata": {},
   "outputs": [
    {
     "name": "stdout",
     "output_type": "stream",
     "text": [
      "BS Call Price:  38.541\n",
      "BS Put Price:  3.1762\n"
     ]
    }
   ],
   "source": [
    "BS_call, BS_put = BS_price(S, K, T, r, sigma)\n",
    "\n",
    "print(\"BS Call Price: \", round(BS_call, 4))\n",
    "print(\"BS Put Price: \", round(BS_put, 4))"
   ]
  },
  {
   "cell_type": "markdown",
   "id": "85d7f695",
   "metadata": {},
   "source": [
    "### 2.2 European Option Pricing with Monte Carlo\n",
    "\n",
    "Monte Carlo simulation allows us to model the uncertainty associated with the underlying asset's price and derive a distribution of possible option prices."
   ]
  },
  {
   "cell_type": "code",
   "execution_count": 6,
   "id": "58511e5e",
   "metadata": {},
   "outputs": [
    {
     "name": "stdout",
     "output_type": "stream",
     "text": [
      "The Call option Price:  38.786 +/- 0.76\n",
      "The Put option Price:  3.0945 +/- 0.16\n"
     ]
    }
   ],
   "source": [
    "# Calculate option prices using Monte Carlo\n",
    "MC_call_price, var_call = MC_call(S, K, T, r, sigma, N)\n",
    "MC_put_price, var_put = MC_put(S, K, T, r, sigma, N)\n",
    "\n",
    "SEM_call = np.sqrt(var_call / N)\n",
    "SEM_put = np.sqrt(var_put / N)\n",
    "\n",
    "# Display the results\n",
    "print(\"The Call option Price: \", round(MC_call_price, 4), \"+/-\", format(1.96*SEM_call, '.2g'))\n",
    "print(\"The Put option Price: \", round(MC_put_price, 4), \"+/-\", format(1.96*SEM_put, '.2g'))"
   ]
  },
  {
   "cell_type": "markdown",
   "id": "af81a8d0",
   "metadata": {},
   "source": [
    "The prices of the call and put options from the Black-Scholes formula are 38.541 and 3.1762, respectively. Through Monte Carlo simulation, we estimate these values as approximately 38.786 for the call option and 3.0945 for the put option. It's important to note that these are approximate values, influenced particularly by the number of samples used in the simulation.\n",
    "\n",
    "### 2.3 Visualization of the Monte Carlo Pricing Process (Single Simulation)"
   ]
  },
  {
   "cell_type": "code",
   "execution_count": 7,
   "id": "45827dbb",
   "metadata": {},
   "outputs": [
    {
     "data": {
      "image/png": "[encoded data removed]",
      "text/plain": [
       "<Figure size 864x648 with 4 Axes>"
      ]
     },
     "metadata": {
      "needs_background": "light"
     },
     "output_type": "display_data"
    }
   ],
   "source": [
    "# Generate Random Numbers\n",
    "X = rng.normal(0, 1, N)\n",
    "# Calculate S_T\n",
    "S_T = S * np.exp((r-0.5*sigma**2)*T + sigma*np.sqrt(T)*X)\n",
    "# Call option\n",
    "fST_call = np.exp(-r*T) * np.maximum(S_T-K, 0)\n",
    "# Put Option\n",
    "fST_put = np.exp(-r*T) * np.maximum(K-S_T, 0)\n",
    "\n",
    "\n",
    "# Plotting\n",
    "fig = plt.figure(tight_layout=True, figsize=(12, 9))\n",
    "gs = gridspec.GridSpec(3, 2)\n",
    "\n",
    "# Plot 1: Random Variables from Standard normal Distribution\n",
    "ax0 = plt.subplot(gs[0, :])\n",
    "sns.histplot(X, kde=True, ax=ax0)\n",
    "ax0.set_title(\"Random Variables from Standard Normal Distribution\", fontsize=14)\n",
    "ax0.set_ylabel('PDF', fontsize=12)\n",
    "\n",
    "# plot 2: Underlying Asset Prices at Maturity for European Option \n",
    "ax1 = plt.subplot(gs[1, :])\n",
    "sns.histplot(S_T, kde=True, ax=ax1)\n",
    "ax1.set_title(\"Underlying Asset Prices at Maturity for European Option\", fontsize=14)\n",
    "ax1.axvline(np.mean(S_T), linestyle='dashed', color='red', label='$E[S_T]$', linewidth=0.8)\n",
    "ax1.axvline(K, linestyle='dashed', color='orange', label='Strike Price (K)', linewidth=0.8)\n",
    "ax1.legend()\n",
    "ax1.set_ylabel('PDF', fontsize=12)\n",
    "\n",
    "# plot 3: Distribution of the Payoff of a European Option at Maturity\n",
    "ax20 = plt.subplot(gs[2, 0])\n",
    "sns.histplot(fST_call, kde=True, ax=ax20)\n",
    "ax20.set_title(\"Distribution of the Payoff of a European Call Option at Maturity\", fontsize=14)\n",
    "ax20.set_ylabel('PDF', fontsize=12)\n",
    "ax20.axvline(np.mean(fST_call), linestyle='dashed', color='red', label='$E[f(S_T)]$', linewidth=0.8)\n",
    "ax20.legend()\n",
    "\n",
    "ax21 = plt.subplot(gs[2, 1])\n",
    "sns.histplot(fST_put, kde=True, color='red', ax=ax21)\n",
    "ax21.set_title(\"Distribution of the Payoff of a European Put Option at Maturity\", fontsize=14)\n",
    "ax21.set_ylabel('PDF', fontsize=12)\n",
    "ax21.axvline(np.mean(fST_put), linestyle='dashed', color='blue', label='$E[f(S_T)]$', linewidth=0.8)\n",
    "ax21.legend()\n",
    "\n",
    "plt.show()"
   ]
  },
  {
   "cell_type": "markdown",
   "id": "86300892",
   "metadata": {},
   "source": [
    "1. **Generate Random Numbers**: \n",
    "We begin by generating random numbers from a standard normal distribution. These are used to simulate the random component of asset price movements, consistent with the Geometric Brownian Motion (GBM) model.\n",
    "\n",
    "2. **Calculate Asset Prices Using GBM**: \n",
    "These random numbers are then used within the Geometric Brownian Motion formula to simulate possible future paths of the underlying asset's price at the option's expiration time $T$.\n",
    "\n",
    "3. **Discounted Payoff of European Options**:\n",
    "Once we have simulated the asset prices at time $T$, we then calculate the payoff for the options. For a call option, the payoff is the maximum of zero or the asset price minus the strike price at expiration. These payoffs are then discounted to present value using the risk-free rate. These are used to estimate the expected payoff and its variance in just one simulation run."
   ]
  },
  {
   "cell_type": "markdown",
   "id": "2c0ecb55",
   "metadata": {},
   "source": [
    "### 2.4 Central Limit Theorem by Multiple Simulation"
   ]
  },
  {
   "cell_type": "code",
   "execution_count": null,
   "id": "8c67df54",
   "metadata": {
    "scrolled": false
   },
   "outputs": [],
   "source": [
    "Nhist = 10**4 # Number of Historical Simulations\n",
    "call_price_arr = np.zeros(Nhist)\n",
    "put_price_arr = np.zeros(Nhist)\n",
    "\n",
    "for i in range(Nhist):\n",
    "    call_price_arr[i], _ = MC_call(S, K, T, r, sigma, N)\n",
    "    put_price_arr[i], _ = MC_put(S, K, T, r, sigma, N)\n",
    "    \n",
    "call_mean = np.mean(call_price_arr)\n",
    "call_SEM = np.sqrt(np.var(call_price_arr, ddof=1) / Nhist)\n",
    "\n",
    "put_mean = np.mean(put_price_arr)\n",
    "put_SEM = np.sqrt(np.var(put_price_arr, ddof=1) / Nhist)"
   ]
  },
  {
   "cell_type": "code",
   "execution_count": null,
   "id": "bf67c135",
   "metadata": {},
   "outputs": [],
   "source": [
    "fig, axes = plt.subplots(1, 2, figsize=(8, 6))\n",
    "\n",
    "sns.histplot(call_price_arr, kde=True, ax=axes[0], color='skyblue')\n",
    "axes[0].set_xlabel(\"Price of European Call option\", fontsize=12)\n",
    "axes[0].set_ylabel(\"PDF\", fontsize=12)\n",
    "axes[0].set_title(\"Price Estimation of Call Option\", fontsize=14)\n",
    "\n",
    "sns.histplot(put_price_arr, kde=True, color='darkorange', ax=axes[1])\n",
    "axes[1].set_xlabel(\"Price of European Put option\", fontsize=12)\n",
    "axes[1].set_ylabel(\"PDF\", fontsize=12)\n",
    "axes[1].set_title(\"Price Estimation of Put Option\", fontsize=14)\n",
    "\n",
    "plt.tight_layout()\n",
    "plt.show()"
   ]
  },
  {
   "cell_type": "markdown",
   "id": "5642d20f",
   "metadata": {},
   "source": [
    "The histograms for the price estimation of European call and put options illustrate the practical application of the Central Limit Theorem (CLT). If we repeat the entire simulation many times, we are effectively generating many samples of the estimated option price and variance. This would provide us with a distribution of the estimated prices from which we can calculate an overall expected price and its variance, considering all simulation runs.\n",
    "\n",
    "As the Monte Carlo simulation involves a large number of trials to forecast the option prices, the distribution of these prices tends to form a bell-shaped curve. This is in line with the CLT, which states that the distribution of the sample mean will approach a normal distribution as the sample size becomes larger. Consequently, the peak of the histograms indicates the most probable option price, which, as suggested by the CLT, will converge towards the true mean price with an increasing number of simulations. This convergence allows us to use the average of the simulated prices as a reliable estimate of the option's fair value."
   ]
  },
  {
   "cell_type": "markdown",
   "id": "fa1872e5",
   "metadata": {},
   "source": [
    "### 2.5 Price Convergence and Error"
   ]
  },
  {
   "cell_type": "code",
   "execution_count": null,
   "id": "8c6c258b",
   "metadata": {
    "scrolled": false
   },
   "outputs": [],
   "source": [
    "# Plotting\n",
    "fig, axes = plt.subplots(2, 1, figsize=(12, 9))\n",
    "\n",
    "# Plot1 : Convergence of Monte Carlo\n",
    "N_plot_0 = np.arange(100, 10**5, 100)\n",
    "N_0 = len(N_plot_0)\n",
    "price_plot_0 = np.zeros(N_0)\n",
    "\n",
    "for k in range(N_0):\n",
    "    price_plot_0[k], var = MC_call(S, K, T, r, sigma, N_plot_0[k])\n",
    "\n",
    "\n",
    "sns.lineplot(y=price_plot_0, x=N_plot_0, ax=axes[0])\n",
    "axes[0].fill_between(N_plot_0,\n",
    "                    BS_call - 1.96 * np.sqrt(var/N_plot_0),\n",
    "                    BS_call + 1.96 * np.sqrt(var/N_plot_0),\n",
    "                    alpha = 0.5,\n",
    "                    color = 'darkorange')\n",
    "axes[0].set_xlabel(\"sample size N\", fontsize=12)\n",
    "axes[0].set_ylabel(\"price\", fontsize=12)\n",
    "axes[0].set_title(\"price vs N with confidence interval of Call Option\", fontsize=14)\n",
    "\n",
    "\n",
    "# Sample Numbers: 24 [1, 2, 4, ...]\n",
    "N_1 = 24\n",
    "N_plot_1 = 2**np.arange(N_1)\n",
    "price_plot_1 = np.zeros(N_1)\n",
    "\n",
    "for k in range(N_1):\n",
    "    price_plot_1[k], _ = MC_call(S, K, T, r, sigma, N_plot_1[k])\n",
    "\n",
    "error = np.abs(price_plot_1 - BS_call)\n",
    "\n",
    "# Plot2 : Error (MC Price - BS Price) and Sample Size\n",
    "axes[1].loglog(N_plot_1, error, '-o' )\n",
    "axes[1].loglog(N_plot_1, 30 * N_plot_1**(-0.5))\n",
    "axes[1].set_title(\"Error and Sample Size of Call Option\", fontsize=14)\n",
    "axes[1].set_xlabel(\"Sample Size N\", fontsize=12)\n",
    "axes[1].set_ylabel(\"Error\", fontsize=12)\n",
    "\n",
    "plt.tight_layout()\n",
    "plt.show()"
   ]
  },
  {
   "cell_type": "markdown",
   "id": "f84a2316",
   "metadata": {},
   "source": [
    "### 2.6 Option Value by Spot Price"
   ]
  },
  {
   "cell_type": "code",
   "execution_count": null,
   "id": "ce5a2b0b",
   "metadata": {},
   "outputs": [],
   "source": [
    "spot_price = np.arange(10, 201, 1)\n",
    "\n",
    "N_spot = len(spot_price)\n",
    "call_price_plot = np.zeros(N_spot)\n",
    "call_var_plot = np.zeros(N_spot)\n",
    "put_price_plot = np.zeros(N_spot)\n",
    "put_var_plot = np.zeros(N_spot)\n",
    "    \n",
    "for i in range(N_spot):\n",
    "    call_price_plot[i], call_var_plot[i] = MC_call(spot_price[i], K, T, r, sigma, N)\n",
    "    put_price_plot[i], put_var_plot[i] = MC_put(spot_price[i], K, T, r, sigma, N)\n",
    "\n",
    "SEM_call = np.sqrt(call_var_plot/N)\n",
    "SEM_put = np.sqrt(put_var_plot/N)\n",
    "\n",
    "option_labels = zip([call_price_plot, put_price_plot], ['European call option', 'European put option'], [SEM_call, SEM_put])\n",
    "\n",
    "fig, axes = plt.subplots(1, 2, figsize=(16, 6)) \n",
    "\n",
    "for i, (price, option_type, SEM) in enumerate(option_labels):\n",
    "    sns.lineplot(x=spot_price, y=price, ax=axes[i])\n",
    "    axes[i].set_xlabel(\"Spot price S\", fontsize=12)\n",
    "    axes[i].set_ylabel(\"Option Value\", fontsize=12)\n",
    "    axes[i].set_title(option_type, fontsize=14)\n",
    "    \n",
    "    axes[i].fill_between(spot_price, price - 1.96*SEM, price + 1.96*SEM, \n",
    "                 alpha=0.7, color=\"darkorange\")\n",
    "\n",
    "plt.show()"
   ]
  },
  {
   "cell_type": "markdown",
   "id": "2c6dc333",
   "metadata": {},
   "source": [
    "### 2.7 Option Delta"
   ]
  },
  {
   "cell_type": "code",
   "execution_count": null,
   "id": "f61ffefd",
   "metadata": {},
   "outputs": [],
   "source": [
    "call_delta_plot = np.zeros(N_spot)\n",
    "call_var_plot = np.zeros(N_spot)\n",
    "put_delta_plot = np.zeros(N_spot)\n",
    "put_var_plot = np.zeros(N_spot)\n",
    "\n",
    "    \n",
    "for i in range(N_spot):\n",
    "    call_delta_plot[i], call_var_plot[i] = MC_call_delta(spot_price[i], K, T, r, sigma, N)\n",
    "    put_delta_plot[i], put_var_plot[i] = MC_put_delta(spot_price[i], K, T, r, sigma, N)\n",
    "\n",
    "SEM_call = np.sqrt(call_var_plot/N)\n",
    "SEM_put = np.sqrt(put_var_plot/N)\n",
    "\n",
    "option_labels = zip([call_delta_plot, put_delta_plot], ['European call delta', 'European put delta'], [SEM_call, SEM_put])\n",
    "\n",
    "fig, axes = plt.subplots(1, 2, figsize=(16, 6))\n",
    "\n",
    "for i, (delta, option_type, SEM) in enumerate(option_labels):\n",
    "    sns.lineplot(x=spot_price, y=delta, ax=axes[i])\n",
    "    axes[i].set_xlabel(\"Spot price S\", fontsize=12)\n",
    "    axes[i].set_ylabel(\"Delta\", fontsize=12)\n",
    "    axes[i].set_title(option_type, fontsize=14)\n",
    "    \n",
    "    axes[i].fill_between(spot_price, delta - 1.96*SEM, delta + 1.96*SEM, \n",
    "                 alpha=0.7, color=\"darkorange\")\n",
    "\n",
    "plt.show()"
   ]
  }
 ],
 "metadata": {
  "kernelspec": {
   "display_name": "Python 3 (ipykernel)",
   "language": "python",
   "name": "python3"
  },
  "language_info": {
   "codemirror_mode": {
    "name": "ipython",
    "version": 3
   },
   "file_extension": ".py",
   "mimetype": "text/x-python",
   "name": "python",
   "nbconvert_exporter": "python",
   "pygments_lexer": "ipython3",
   "version": "3.9.12"
  }
 },
 "nbformat": 4,
 "nbformat_minor": 5
}
